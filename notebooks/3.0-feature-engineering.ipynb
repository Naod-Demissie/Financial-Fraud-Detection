{
  "cells": [
    {
      "cell_type": "markdown",
      "metadata": {
        "id": "eTg-u2ZreI3p"
      },
      "source": [
        "# <center><font color = '#DF9166' size = 20 center> **Feature Engineering**</font></center>\n"
      ]
    },
    {
      "cell_type": "markdown",
      "metadata": {
        "id": "uKoXPbk_eMbe"
      },
      "source": [
        "\n",
        "## <font color = '#DF9166' size=6>**Table of content**<font/><a class = 'anchor' id = 'introduction'/>"
      ]
    },
    {
      "cell_type": "markdown",
      "metadata": {
        "id": "B81Qqee7eGea"
      },
      "source": [
        "1. [**Import Libraries**](#import)\n",
        "2. [**Data Loading**](#data_loading)\n",
        "3. [**Feature Engineering**](#feature_engineering)\n"
      ]
    },
    {
      "cell_type": "markdown",
      "metadata": {
        "id": "_RkwgtESeUG0"
      },
      "source": [
        "## <font color = '#DF9166' size=6>**Import Libraries**<font/><a class = 'anchor' id = 'import'/>\n"
      ]
    },
    {
      "cell_type": "code",
      "execution_count": 1,
      "metadata": {
        "id": "KMCtqdRn2fgu"
      },
      "outputs": [],
      "source": [
        "import os\n",
        "import sys\n",
        "import pandas as pd"
      ]
    },
    {
      "cell_type": "code",
      "execution_count": 2,
      "metadata": {
        "id": "inL9H16Z2fgw"
      },
      "outputs": [],
      "source": [
        "import warnings\n",
        "\n",
        "warnings.filterwarnings(\"ignore\")"
      ]
    },
    {
      "cell_type": "code",
      "execution_count": 3,
      "metadata": {
        "id": "EPsSfEzvecfS"
      },
      "outputs": [],
      "source": [
        "pd.set_option(\"display.max_colwidth\", None)\n",
        "pd.set_option(\"display.max_columns\", None)"
      ]
    },
    {
      "cell_type": "code",
      "execution_count": 4,
      "metadata": {
        "id": "0sCONDQtbR-u"
      },
      "outputs": [],
      "source": [
        "sys.path.append(os.path.abspath(os.path.pardir))\n",
        "from scripts.feature_engineer import FraudFeatureEngineer"
      ]
    },
    {
      "cell_type": "markdown",
      "metadata": {
        "id": "5pPVb9_EiP9D"
      },
      "source": [
        "## <font color = '#DF9166' size=6>**Data Loading**<font/><a class = 'anchor' id = 'data_loading'/>"
      ]
    },
    {
      "cell_type": "code",
      "execution_count": 5,
      "metadata": {
        "id": "MrQxc68-2fgz"
      },
      "outputs": [],
      "source": [
        "CREDIT_DATA_PATH = \"../data/processed/cleaned_credit_df.csv\"\n",
        "FRAUD_DATA_PATH = \"../data/processed/merged_fraud_df.csv\""
      ]
    },
    {
      "cell_type": "code",
      "execution_count": 6,
      "metadata": {},
      "outputs": [],
      "source": [
        "processor = FraudFeatureEngineer(FRAUD_DATA_PATH, CREDIT_DATA_PATH)"
      ]
    },
    {
      "cell_type": "markdown",
      "metadata": {
        "id": "yhuRspF82fg1"
      },
      "source": [
        "## <font color = '#DF9166' size=6>**Feature Engineering**<font/><a class = 'anchor' id = 'feature_engineering'/>"
      ]
    },
    {
      "cell_type": "code",
      "execution_count": 7,
      "metadata": {},
      "outputs": [
        {
          "name": "stdout",
          "output_type": "stream",
          "text": [
            "Processing fraud data...\n",
            "Loading data from ../data/processed/merged_fraud_df.csv...\n",
            "Converting timestamps and extracting time-based features...\n",
            "Calculating transaction frequency and velocity...\n",
            "Dropping unnecessary columns...\n",
            "Encoding categorical features...\n",
            "Normalizing numerical features...\n",
            "First 3 rows of transformed fraud data:\n"
          ]
        },
        {
          "data": {
            "text/html": [
              "<div>\n",
              "<style scoped>\n",
              "    .dataframe tbody tr th:only-of-type {\n",
              "        vertical-align: middle;\n",
              "    }\n",
              "\n",
              "    .dataframe tbody tr th {\n",
              "        vertical-align: top;\n",
              "    }\n",
              "\n",
              "    .dataframe thead th {\n",
              "        text-align: right;\n",
              "    }\n",
              "</style>\n",
              "<table border=\"1\" class=\"dataframe\">\n",
              "  <thead>\n",
              "    <tr style=\"text-align: right;\">\n",
              "      <th></th>\n",
              "      <th>Unnamed: 0</th>\n",
              "      <th>purchase_value</th>\n",
              "      <th>source</th>\n",
              "      <th>browser</th>\n",
              "      <th>sex</th>\n",
              "      <th>age</th>\n",
              "      <th>class</th>\n",
              "      <th>country</th>\n",
              "      <th>hour_of_day</th>\n",
              "      <th>day_of_week</th>\n",
              "      <th>time_since_signup</th>\n",
              "      <th>transaction_count</th>\n",
              "      <th>velocity</th>\n",
              "    </tr>\n",
              "  </thead>\n",
              "  <tbody>\n",
              "    <tr>\n",
              "      <th>0</th>\n",
              "      <td>0</td>\n",
              "      <td>0.3125</td>\n",
              "      <td>2</td>\n",
              "      <td>0</td>\n",
              "      <td>1</td>\n",
              "      <td>0.538462</td>\n",
              "      <td>0</td>\n",
              "      <td>84</td>\n",
              "      <td>0.086957</td>\n",
              "      <td>0.833333</td>\n",
              "      <td>0.434673</td>\n",
              "      <td>0.0</td>\n",
              "      <td>0.504068</td>\n",
              "    </tr>\n",
              "    <tr>\n",
              "      <th>1</th>\n",
              "      <td>1</td>\n",
              "      <td>0.0875</td>\n",
              "      <td>0</td>\n",
              "      <td>0</td>\n",
              "      <td>0</td>\n",
              "      <td>0.897436</td>\n",
              "      <td>0</td>\n",
              "      <td>171</td>\n",
              "      <td>0.043478</td>\n",
              "      <td>0.000000</td>\n",
              "      <td>0.001731</td>\n",
              "      <td>0.0</td>\n",
              "      <td>0.504068</td>\n",
              "    </tr>\n",
              "    <tr>\n",
              "      <th>2</th>\n",
              "      <td>2</td>\n",
              "      <td>0.0750</td>\n",
              "      <td>2</td>\n",
              "      <td>3</td>\n",
              "      <td>1</td>\n",
              "      <td>0.897436</td>\n",
              "      <td>1</td>\n",
              "      <td>171</td>\n",
              "      <td>0.782609</td>\n",
              "      <td>0.500000</td>\n",
              "      <td>0.000000</td>\n",
              "      <td>0.0</td>\n",
              "      <td>0.504068</td>\n",
              "    </tr>\n",
              "  </tbody>\n",
              "</table>\n",
              "</div>"
            ],
            "text/plain": [
              "   Unnamed: 0  purchase_value  source  browser  sex       age  class  country  \\\n",
              "0           0          0.3125       2        0    1  0.538462      0       84   \n",
              "1           1          0.0875       0        0    0  0.897436      0      171   \n",
              "2           2          0.0750       2        3    1  0.897436      1      171   \n",
              "\n",
              "   hour_of_day  day_of_week  time_since_signup  transaction_count  velocity  \n",
              "0     0.086957     0.833333           0.434673                0.0  0.504068  \n",
              "1     0.043478     0.000000           0.001731                0.0  0.504068  \n",
              "2     0.782609     0.500000           0.000000                0.0  0.504068  "
            ]
          },
          "metadata": {},
          "output_type": "display_data"
        },
        {
          "name": "stdout",
          "output_type": "stream",
          "text": [
            "Splitting and saving data...\n",
            "Splitting data for fraud_data...\n",
            "Saving split datasets for fraud_data...\n",
            "Data processing complete.\n"
          ]
        }
      ],
      "source": [
        "processor.process_fraud_data()"
      ]
    },
    {
      "cell_type": "code",
      "execution_count": 8,
      "metadata": {
        "id": "VWSHF10l2fg5"
      },
      "outputs": [
        {
          "name": "stdout",
          "output_type": "stream",
          "text": [
            "Processing credit card data...\n",
            "Loading data from ../data/processed/cleaned_credit_df.csv...\n",
            "Normalizing features V1 to V28 and Amount...\n",
            "First 3 rows of transformed credit card data:\n"
          ]
        },
        {
          "data": {
            "text/html": [
              "<div>\n",
              "<style scoped>\n",
              "    .dataframe tbody tr th:only-of-type {\n",
              "        vertical-align: middle;\n",
              "    }\n",
              "\n",
              "    .dataframe tbody tr th {\n",
              "        vertical-align: top;\n",
              "    }\n",
              "\n",
              "    .dataframe thead th {\n",
              "        text-align: right;\n",
              "    }\n",
              "</style>\n",
              "<table border=\"1\" class=\"dataframe\">\n",
              "  <thead>\n",
              "    <tr style=\"text-align: right;\">\n",
              "      <th></th>\n",
              "      <th>Unnamed: 0</th>\n",
              "      <th>Time</th>\n",
              "      <th>V1</th>\n",
              "      <th>V2</th>\n",
              "      <th>V3</th>\n",
              "      <th>V4</th>\n",
              "      <th>V5</th>\n",
              "      <th>V6</th>\n",
              "      <th>V7</th>\n",
              "      <th>V8</th>\n",
              "      <th>V9</th>\n",
              "      <th>V10</th>\n",
              "      <th>V11</th>\n",
              "      <th>V12</th>\n",
              "      <th>V13</th>\n",
              "      <th>V14</th>\n",
              "      <th>V15</th>\n",
              "      <th>V16</th>\n",
              "      <th>V17</th>\n",
              "      <th>V18</th>\n",
              "      <th>V19</th>\n",
              "      <th>V20</th>\n",
              "      <th>V21</th>\n",
              "      <th>V22</th>\n",
              "      <th>V23</th>\n",
              "      <th>V24</th>\n",
              "      <th>V25</th>\n",
              "      <th>V26</th>\n",
              "      <th>V27</th>\n",
              "      <th>V28</th>\n",
              "      <th>Amount</th>\n",
              "      <th>Class</th>\n",
              "    </tr>\n",
              "  </thead>\n",
              "  <tbody>\n",
              "    <tr>\n",
              "      <th>0</th>\n",
              "      <td>0</td>\n",
              "      <td>0.0</td>\n",
              "      <td>0.432237</td>\n",
              "      <td>0.469159</td>\n",
              "      <td>0.822691</td>\n",
              "      <td>0.725409</td>\n",
              "      <td>0.442469</td>\n",
              "      <td>0.638949</td>\n",
              "      <td>0.551394</td>\n",
              "      <td>0.518831</td>\n",
              "      <td>0.578229</td>\n",
              "      <td>0.533324</td>\n",
              "      <td>0.408293</td>\n",
              "      <td>0.323307</td>\n",
              "      <td>0.309453</td>\n",
              "      <td>0.406192</td>\n",
              "      <td>0.791061</td>\n",
              "      <td>0.374109</td>\n",
              "      <td>0.570770</td>\n",
              "      <td>0.505937</td>\n",
              "      <td>0.610117</td>\n",
              "      <td>0.710742</td>\n",
              "      <td>0.501654</td>\n",
              "      <td>0.566628</td>\n",
              "      <td>0.416407</td>\n",
              "      <td>0.508551</td>\n",
              "      <td>0.541883</td>\n",
              "      <td>0.435634</td>\n",
              "      <td>0.690431</td>\n",
              "      <td>0.435569</td>\n",
              "      <td>0.005824</td>\n",
              "      <td>0</td>\n",
              "    </tr>\n",
              "    <tr>\n",
              "      <th>1</th>\n",
              "      <td>1</td>\n",
              "      <td>0.0</td>\n",
              "      <td>0.812012</td>\n",
              "      <td>0.529660</td>\n",
              "      <td>0.513267</td>\n",
              "      <td>0.579162</td>\n",
              "      <td>0.518961</td>\n",
              "      <td>0.522077</td>\n",
              "      <td>0.480501</td>\n",
              "      <td>0.512471</td>\n",
              "      <td>0.453398</td>\n",
              "      <td>0.468175</td>\n",
              "      <td>0.769760</td>\n",
              "      <td>0.734555</td>\n",
              "      <td>0.591806</td>\n",
              "      <td>0.451777</td>\n",
              "      <td>0.622034</td>\n",
              "      <td>0.609963</td>\n",
              "      <td>0.479341</td>\n",
              "      <td>0.453645</td>\n",
              "      <td>0.459868</td>\n",
              "      <td>0.478278</td>\n",
              "      <td>0.376515</td>\n",
              "      <td>0.352628</td>\n",
              "      <td>0.587539</td>\n",
              "      <td>0.380255</td>\n",
              "      <td>0.556338</td>\n",
              "      <td>0.574536</td>\n",
              "      <td>0.470241</td>\n",
              "      <td>0.503803</td>\n",
              "      <td>0.000105</td>\n",
              "      <td>0</td>\n",
              "    </tr>\n",
              "    <tr>\n",
              "      <th>2</th>\n",
              "      <td>2</td>\n",
              "      <td>1.0</td>\n",
              "      <td>0.432453</td>\n",
              "      <td>0.242927</td>\n",
              "      <td>0.723051</td>\n",
              "      <td>0.568410</td>\n",
              "      <td>0.410807</td>\n",
              "      <td>0.926031</td>\n",
              "      <td>0.674268</td>\n",
              "      <td>0.588510</td>\n",
              "      <td>0.199540</td>\n",
              "      <td>0.562856</td>\n",
              "      <td>0.604716</td>\n",
              "      <td>0.490413</td>\n",
              "      <td>0.635327</td>\n",
              "      <td>0.445739</td>\n",
              "      <td>0.969237</td>\n",
              "      <td>0.493148</td>\n",
              "      <td>0.826268</td>\n",
              "      <td>0.469147</td>\n",
              "      <td>0.499637</td>\n",
              "      <td>0.909169</td>\n",
              "      <td>0.662280</td>\n",
              "      <td>0.681937</td>\n",
              "      <td>0.505845</td>\n",
              "      <td>0.270044</td>\n",
              "      <td>0.371191</td>\n",
              "      <td>0.457689</td>\n",
              "      <td>0.398612</td>\n",
              "      <td>0.361762</td>\n",
              "      <td>0.014739</td>\n",
              "      <td>0</td>\n",
              "    </tr>\n",
              "  </tbody>\n",
              "</table>\n",
              "</div>"
            ],
            "text/plain": [
              "   Unnamed: 0  Time        V1        V2        V3        V4        V5  \\\n",
              "0           0   0.0  0.432237  0.469159  0.822691  0.725409  0.442469   \n",
              "1           1   0.0  0.812012  0.529660  0.513267  0.579162  0.518961   \n",
              "2           2   1.0  0.432453  0.242927  0.723051  0.568410  0.410807   \n",
              "\n",
              "         V6        V7        V8        V9       V10       V11       V12  \\\n",
              "0  0.638949  0.551394  0.518831  0.578229  0.533324  0.408293  0.323307   \n",
              "1  0.522077  0.480501  0.512471  0.453398  0.468175  0.769760  0.734555   \n",
              "2  0.926031  0.674268  0.588510  0.199540  0.562856  0.604716  0.490413   \n",
              "\n",
              "        V13       V14       V15       V16       V17       V18       V19  \\\n",
              "0  0.309453  0.406192  0.791061  0.374109  0.570770  0.505937  0.610117   \n",
              "1  0.591806  0.451777  0.622034  0.609963  0.479341  0.453645  0.459868   \n",
              "2  0.635327  0.445739  0.969237  0.493148  0.826268  0.469147  0.499637   \n",
              "\n",
              "        V20       V21       V22       V23       V24       V25       V26  \\\n",
              "0  0.710742  0.501654  0.566628  0.416407  0.508551  0.541883  0.435634   \n",
              "1  0.478278  0.376515  0.352628  0.587539  0.380255  0.556338  0.574536   \n",
              "2  0.909169  0.662280  0.681937  0.505845  0.270044  0.371191  0.457689   \n",
              "\n",
              "        V27       V28    Amount  Class  \n",
              "0  0.690431  0.435569  0.005824      0  \n",
              "1  0.470241  0.503803  0.000105      0  \n",
              "2  0.398612  0.361762  0.014739      0  "
            ]
          },
          "metadata": {},
          "output_type": "display_data"
        },
        {
          "name": "stdout",
          "output_type": "stream",
          "text": [
            "Splitting and saving data...\n",
            "Splitting data for creditcard_data...\n",
            "Saving split datasets for creditcard_data...\n",
            "Data processing complete.\n"
          ]
        }
      ],
      "source": [
        "processor.process_creditcard_data()"
      ]
    },
    {
      "cell_type": "code",
      "execution_count": 11,
      "metadata": {},
      "outputs": [
        {
          "data": {
            "text/plain": [
              "(42559, 31)"
            ]
          },
          "execution_count": 11,
          "metadata": {},
          "output_type": "execute_result"
        }
      ],
      "source": [
        "import numpy as np\n",
        "\n",
        "np.load(\"../data/processed/creditcard_data_X_val.npy\").shape"
      ]
    },
    {
      "cell_type": "code",
      "execution_count": null,
      "metadata": {},
      "outputs": [],
      "source": []
    }
  ],
  "metadata": {
    "colab": {
      "collapsed_sections": [
        "_RkwgtESeUG0",
        "5pPVb9_EiP9D"
      ],
      "provenance": []
    },
    "kernelspec": {
      "display_name": "w8-env",
      "language": "python",
      "name": "python3"
    },
    "language_info": {
      "codemirror_mode": {
        "name": "ipython",
        "version": 3
      },
      "file_extension": ".py",
      "mimetype": "text/x-python",
      "name": "python",
      "nbconvert_exporter": "python",
      "pygments_lexer": "ipython3",
      "version": "3.10.16"
    }
  },
  "nbformat": 4,
  "nbformat_minor": 0
}
